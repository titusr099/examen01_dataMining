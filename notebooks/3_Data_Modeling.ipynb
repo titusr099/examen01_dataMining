{
 "cells": [
  {
   "cell_type": "code",
   "execution_count": 19,
   "metadata": {},
   "outputs": [],
   "source": [
    "import pandas as pd\n",
    "import matplotlib.pyplot as plt\n",
    "import seaborn as sns"
   ]
  },
  {
   "cell_type": "code",
   "execution_count": 20,
   "metadata": {},
   "outputs": [],
   "source": [
    "filepath = \"../data/clean/\""
   ]
  },
  {
   "cell_type": "code",
   "execution_count": 21,
   "metadata": {},
   "outputs": [],
   "source": [
    "# Cargar los archivos CSV\n",
    "calls_df = pd.read_csv(filepath + \"megaline_calls.csv\")\n",
    "internet_df = pd.read_csv(filepath + \"megaline_internet.csv\")\n",
    "messages_df = pd.read_csv(filepath + \"megaline_messages.csv\")\n",
    "plans_df = pd.read_csv(filepath + \"megaline_plans.csv\")\n",
    "users_df = pd.read_csv(filepath + \"megaline_users.csv\")"
   ]
  },
  {
   "cell_type": "code",
   "execution_count": 22,
   "metadata": {},
   "outputs": [],
   "source": [
    "usuarios_con_consumo_df = pd.read_csv(filepath + \"usuarios_con_consumo.csv\")"
   ]
  },
  {
   "cell_type": "code",
   "execution_count": 23,
   "metadata": {},
   "outputs": [],
   "source": [
    "# Seleccionar columnas relevantes para la tabla de hechos\n",
    "fact_usage = usuarios_con_consumo_df[[\"user_id\", \"plan\", \"total_minutes\", \"message_count\", \"total_mb_used\", \"costo_total\"]].copy()\n"
   ]
  },
  {
   "cell_type": "code",
   "execution_count": 24,
   "metadata": {},
   "outputs": [
    {
     "data": {
      "text/html": [
       "<div>\n",
       "<style scoped>\n",
       "    .dataframe tbody tr th:only-of-type {\n",
       "        vertical-align: middle;\n",
       "    }\n",
       "\n",
       "    .dataframe tbody tr th {\n",
       "        vertical-align: top;\n",
       "    }\n",
       "\n",
       "    .dataframe thead th {\n",
       "        text-align: right;\n",
       "    }\n",
       "</style>\n",
       "<table border=\"1\" class=\"dataframe\">\n",
       "  <thead>\n",
       "    <tr style=\"text-align: right;\">\n",
       "      <th></th>\n",
       "      <th>user_id</th>\n",
       "      <th>plan</th>\n",
       "      <th>total_minutes</th>\n",
       "      <th>message_count</th>\n",
       "      <th>total_mb_used</th>\n",
       "      <th>costo_total</th>\n",
       "    </tr>\n",
       "  </thead>\n",
       "  <tbody>\n",
       "    <tr>\n",
       "      <th>0</th>\n",
       "      <td>1000</td>\n",
       "      <td>ultimate</td>\n",
       "      <td>116.83</td>\n",
       "      <td>11.0</td>\n",
       "      <td>1901.47</td>\n",
       "      <td>70.000000</td>\n",
       "    </tr>\n",
       "    <tr>\n",
       "      <th>1</th>\n",
       "      <td>1001</td>\n",
       "      <td>surf</td>\n",
       "      <td>1640.46</td>\n",
       "      <td>207.0</td>\n",
       "      <td>80437.94</td>\n",
       "      <td>694.450558</td>\n",
       "    </tr>\n",
       "    <tr>\n",
       "      <th>2</th>\n",
       "      <td>1002</td>\n",
       "      <td>surf</td>\n",
       "      <td>777.13</td>\n",
       "      <td>88.0</td>\n",
       "      <td>40293.33</td>\n",
       "      <td>272.943451</td>\n",
       "    </tr>\n",
       "    <tr>\n",
       "      <th>3</th>\n",
       "      <td>1003</td>\n",
       "      <td>surf</td>\n",
       "      <td>1041.00</td>\n",
       "      <td>50.0</td>\n",
       "      <td>27044.14</td>\n",
       "      <td>150.332930</td>\n",
       "    </tr>\n",
       "    <tr>\n",
       "      <th>4</th>\n",
       "      <td>1004</td>\n",
       "      <td>surf</td>\n",
       "      <td>2618.95</td>\n",
       "      <td>177.0</td>\n",
       "      <td>156352.81</td>\n",
       "      <td>1464.261410</td>\n",
       "    </tr>\n",
       "    <tr>\n",
       "      <th>...</th>\n",
       "      <td>...</td>\n",
       "      <td>...</td>\n",
       "      <td>...</td>\n",
       "      <td>...</td>\n",
       "      <td>...</td>\n",
       "      <td>...</td>\n",
       "    </tr>\n",
       "    <tr>\n",
       "      <th>495</th>\n",
       "      <td>1495</td>\n",
       "      <td>surf</td>\n",
       "      <td>1666.41</td>\n",
       "      <td>0.0</td>\n",
       "      <td>98890.96</td>\n",
       "      <td>870.724331</td>\n",
       "    </tr>\n",
       "    <tr>\n",
       "      <th>496</th>\n",
       "      <td>1496</td>\n",
       "      <td>surf</td>\n",
       "      <td>1376.21</td>\n",
       "      <td>65.0</td>\n",
       "      <td>64268.64</td>\n",
       "      <td>524.359738</td>\n",
       "    </tr>\n",
       "    <tr>\n",
       "      <th>497</th>\n",
       "      <td>1497</td>\n",
       "      <td>ultimate</td>\n",
       "      <td>276.53</td>\n",
       "      <td>50.0</td>\n",
       "      <td>11106.55</td>\n",
       "      <td>70.000000</td>\n",
       "    </tr>\n",
       "    <tr>\n",
       "      <th>498</th>\n",
       "      <td>1498</td>\n",
       "      <td>surf</td>\n",
       "      <td>3029.97</td>\n",
       "      <td>0.0</td>\n",
       "      <td>227525.13</td>\n",
       "      <td>2167.824198</td>\n",
       "    </tr>\n",
       "    <tr>\n",
       "      <th>499</th>\n",
       "      <td>1499</td>\n",
       "      <td>surf</td>\n",
       "      <td>1450.31</td>\n",
       "      <td>0.0</td>\n",
       "      <td>71350.23</td>\n",
       "      <td>595.288890</td>\n",
       "    </tr>\n",
       "  </tbody>\n",
       "</table>\n",
       "<p>500 rows × 6 columns</p>\n",
       "</div>"
      ],
      "text/plain": [
       "     user_id      plan  total_minutes  message_count  total_mb_used  \\\n",
       "0       1000  ultimate         116.83           11.0        1901.47   \n",
       "1       1001      surf        1640.46          207.0       80437.94   \n",
       "2       1002      surf         777.13           88.0       40293.33   \n",
       "3       1003      surf        1041.00           50.0       27044.14   \n",
       "4       1004      surf        2618.95          177.0      156352.81   \n",
       "..       ...       ...            ...            ...            ...   \n",
       "495     1495      surf        1666.41            0.0       98890.96   \n",
       "496     1496      surf        1376.21           65.0       64268.64   \n",
       "497     1497  ultimate         276.53           50.0       11106.55   \n",
       "498     1498      surf        3029.97            0.0      227525.13   \n",
       "499     1499      surf        1450.31            0.0       71350.23   \n",
       "\n",
       "     costo_total  \n",
       "0      70.000000  \n",
       "1     694.450558  \n",
       "2     272.943451  \n",
       "3     150.332930  \n",
       "4    1464.261410  \n",
       "..           ...  \n",
       "495   870.724331  \n",
       "496   524.359738  \n",
       "497    70.000000  \n",
       "498  2167.824198  \n",
       "499   595.288890  \n",
       "\n",
       "[500 rows x 6 columns]"
      ]
     },
     "execution_count": 24,
     "metadata": {},
     "output_type": "execute_result"
    }
   ],
   "source": [
    "fact_usage"
   ]
  },
  {
   "cell_type": "code",
   "execution_count": 25,
   "metadata": {},
   "outputs": [],
   "source": [
    "fact_usage.rename(columns={\n",
    "    \"total_minutes\": \"calls_minutes\",\n",
    "    \"message_count\": \"messages_sent\",\n",
    "    \"total_mb_used\": \"data_used_mb\",\n",
    "    \"costo_total\": \"total_cost\"\n",
    "}, inplace=True)"
   ]
  },
  {
   "cell_type": "code",
   "execution_count": 26,
   "metadata": {},
   "outputs": [],
   "source": [
    "# Tablas de dimensiones"
   ]
  },
  {
   "cell_type": "code",
   "execution_count": 27,
   "metadata": {},
   "outputs": [],
   "source": [
    "# Objetivo:\n",
    "# Predecir el Monto Total (Facturación) que un Usuario Pagará en el Próximo Mes"
   ]
  },
  {
   "cell_type": "code",
   "execution_count": 28,
   "metadata": {},
   "outputs": [],
   "source": [
    "# Seleccionar columnas relevantes\n",
    "dim_plans = plans_df[[\"plan_name\", \"usd_monthly_pay\", \"mb_per_month_included\", \"usd_per_gb\", \"usd_per_message\", \"usd_per_minute\"]].copy()"
   ]
  },
  {
   "cell_type": "code",
   "execution_count": 29,
   "metadata": {},
   "outputs": [
    {
     "data": {
      "text/html": [
       "<div>\n",
       "<style scoped>\n",
       "    .dataframe tbody tr th:only-of-type {\n",
       "        vertical-align: middle;\n",
       "    }\n",
       "\n",
       "    .dataframe tbody tr th {\n",
       "        vertical-align: top;\n",
       "    }\n",
       "\n",
       "    .dataframe thead th {\n",
       "        text-align: right;\n",
       "    }\n",
       "</style>\n",
       "<table border=\"1\" class=\"dataframe\">\n",
       "  <thead>\n",
       "    <tr style=\"text-align: right;\">\n",
       "      <th></th>\n",
       "      <th>plan_name</th>\n",
       "      <th>usd_monthly_pay</th>\n",
       "      <th>mb_per_month_included</th>\n",
       "      <th>usd_per_gb</th>\n",
       "      <th>usd_per_message</th>\n",
       "      <th>usd_per_minute</th>\n",
       "    </tr>\n",
       "  </thead>\n",
       "  <tbody>\n",
       "    <tr>\n",
       "      <th>0</th>\n",
       "      <td>surf</td>\n",
       "      <td>20</td>\n",
       "      <td>15360</td>\n",
       "      <td>10</td>\n",
       "      <td>0.03</td>\n",
       "      <td>0.03</td>\n",
       "    </tr>\n",
       "    <tr>\n",
       "      <th>1</th>\n",
       "      <td>ultimate</td>\n",
       "      <td>70</td>\n",
       "      <td>30720</td>\n",
       "      <td>7</td>\n",
       "      <td>0.01</td>\n",
       "      <td>0.01</td>\n",
       "    </tr>\n",
       "  </tbody>\n",
       "</table>\n",
       "</div>"
      ],
      "text/plain": [
       "  plan_name  usd_monthly_pay  mb_per_month_included  usd_per_gb  \\\n",
       "0      surf               20                  15360          10   \n",
       "1  ultimate               70                  30720           7   \n",
       "\n",
       "   usd_per_message  usd_per_minute  \n",
       "0             0.03            0.03  \n",
       "1             0.01            0.01  "
      ]
     },
     "execution_count": 29,
     "metadata": {},
     "output_type": "execute_result"
    }
   ],
   "source": [
    "dim_plans"
   ]
  },
  {
   "cell_type": "code",
   "execution_count": 30,
   "metadata": {},
   "outputs": [],
   "source": [
    "dim_plans.rename(columns={\n",
    "    \"usd_monthly_pay\": \"cost_monthly\",\n",
    "    \"mb_per_month_included\": \"mb_included\",\n",
    "    \"usd_per_gb\": \"price_per_gb\",\n",
    "    \"usd_per_message\": \"price_per_sms\",\n",
    "    \"usd_per_minute\": \"price_per_min\"\n",
    "}, inplace=True)"
   ]
  },
  {
   "cell_type": "code",
   "execution_count": 31,
   "metadata": {},
   "outputs": [
    {
     "data": {
      "text/html": [
       "<div>\n",
       "<style scoped>\n",
       "    .dataframe tbody tr th:only-of-type {\n",
       "        vertical-align: middle;\n",
       "    }\n",
       "\n",
       "    .dataframe tbody tr th {\n",
       "        vertical-align: top;\n",
       "    }\n",
       "\n",
       "    .dataframe thead th {\n",
       "        text-align: right;\n",
       "    }\n",
       "</style>\n",
       "<table border=\"1\" class=\"dataframe\">\n",
       "  <thead>\n",
       "    <tr style=\"text-align: right;\">\n",
       "      <th></th>\n",
       "      <th>plan_name</th>\n",
       "      <th>cost_monthly</th>\n",
       "      <th>mb_included</th>\n",
       "      <th>price_per_gb</th>\n",
       "      <th>price_per_sms</th>\n",
       "      <th>price_per_min</th>\n",
       "    </tr>\n",
       "  </thead>\n",
       "  <tbody>\n",
       "    <tr>\n",
       "      <th>0</th>\n",
       "      <td>surf</td>\n",
       "      <td>20</td>\n",
       "      <td>15360</td>\n",
       "      <td>10</td>\n",
       "      <td>0.03</td>\n",
       "      <td>0.03</td>\n",
       "    </tr>\n",
       "    <tr>\n",
       "      <th>1</th>\n",
       "      <td>ultimate</td>\n",
       "      <td>70</td>\n",
       "      <td>30720</td>\n",
       "      <td>7</td>\n",
       "      <td>0.01</td>\n",
       "      <td>0.01</td>\n",
       "    </tr>\n",
       "  </tbody>\n",
       "</table>\n",
       "</div>"
      ],
      "text/plain": [
       "  plan_name  cost_monthly  mb_included  price_per_gb  price_per_sms  \\\n",
       "0      surf            20        15360            10           0.03   \n",
       "1  ultimate            70        30720             7           0.01   \n",
       "\n",
       "   price_per_min  \n",
       "0           0.03  \n",
       "1           0.01  "
      ]
     },
     "execution_count": 31,
     "metadata": {},
     "output_type": "execute_result"
    }
   ],
   "source": [
    "dim_plans"
   ]
  },
  {
   "cell_type": "code",
   "execution_count": null,
   "metadata": {},
   "outputs": [],
   "source": []
  }
 ],
 "metadata": {
  "kernelspec": {
   "display_name": "Python 3 (ipykernel)",
   "language": "python",
   "name": "python3"
  },
  "language_info": {
   "codemirror_mode": {
    "name": "ipython",
    "version": 3
   },
   "file_extension": ".py",
   "mimetype": "text/x-python",
   "name": "python",
   "nbconvert_exporter": "python",
   "pygments_lexer": "ipython3",
   "version": "3.12.2"
  }
 },
 "nbformat": 4,
 "nbformat_minor": 4
}
