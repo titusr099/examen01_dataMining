{
 "cells": [
  {
   "cell_type": "markdown",
   "metadata": {},
   "source": [
    "## Conclusiones y Recomendaciones de Negocio"
   ]
  },
  {
   "cell_type": "markdown",
   "metadata": {},
   "source": [
    "Evaluación de Regresión Lineal:\n",
    "\n",
    "MSE: 0.1301\n",
    "\n",
    "MAE: 0.3055\n",
    "\n",
    "R^2: 0.8661"
   ]
  },
  {
   "cell_type": "markdown",
   "metadata": {},
   "source": [
    "Evaluación de Gradient Descent:\n",
    "\n",
    "MSE: 0.1300\n",
    "\n",
    "MAE: 0.3052\n",
    "\n",
    "R^2: 0.8662"
   ]
  },
  {
   "cell_type": "markdown",
   "metadata": {},
   "source": [
    "Ambos modelos obtuvieron resultados prácticamente idénticos, lo que indica que SGDRegressor logró converger correctamente a la misma solución que LinearRegression."
   ]
  },
  {
   "cell_type": "markdown",
   "metadata": {},
   "source": [
    "Se recomienda que:\n",
    "\n",
    "Si los datos son pequeños o medianos -> LinearRegression es más eficiente porque encuentra la solución directamente.\n",
    "\n",
    "Si los datos son grandes -> SGDRegressor es una buena alternativa porque usa optimización iterativa y no requiere invertir una matriz (que en datasets grandes puede ser costoso en memoria y tiempo)."
   ]
  },
  {
   "cell_type": "markdown",
   "metadata": {},
   "source": [
    "Los resultados pueden ayudar a la empresa a:\n",
    "\n",
    "- Identificar qué usuarios suelen pagar más por excedentes y ajustar tarifas para maximizar ingresos.\n",
    "- Evaluar si los precios actuales de los paquetes están alineados con el consumo real.\n",
    "- Ofrecer descuentos personalizados a usuarios con alta facturación para aumentar lealtad.\n",
    "- Si ciertos clientes constantemente exceden su plan, se les podría ofrecer un plan mejor ajustado a su consumo."
   ]
  },
  {
   "cell_type": "markdown",
   "metadata": {},
   "source": [
    "Mejoras a Futuro:"
   ]
  },
  {
   "cell_type": "markdown",
   "metadata": {},
   "source": [
    "1. Incluir más variables relevantes:\n",
    "\n",
    "- Factores como tipo de dispositivo, antigüedad del cliente, historial de cambios de plan o actividad reciente pueden influir en la facturación.\n",
    "- Incorporar estas variables podría mejorar la predicción."
   ]
  },
  {
   "cell_type": "markdown",
   "metadata": {},
   "source": [
    "2. Probar modelos más avanzados\n",
    "\t•\tModelos como Random Forest Regressor o XGBoost podrían mejorar la predicción al capturar relaciones más complejas en los datos.\n",
    "\t•\tImplementar una técnica de optimización de hiperparámetros."
   ]
  },
  {
   "cell_type": "code",
   "execution_count": null,
   "metadata": {},
   "outputs": [],
   "source": []
  }
 ],
 "metadata": {
  "kernelspec": {
   "display_name": "Python 3 (ipykernel)",
   "language": "python",
   "name": "python3"
  },
  "language_info": {
   "codemirror_mode": {
    "name": "ipython",
    "version": 3
   },
   "file_extension": ".py",
   "mimetype": "text/x-python",
   "name": "python",
   "nbconvert_exporter": "python",
   "pygments_lexer": "ipython3",
   "version": "3.12.2"
  }
 },
 "nbformat": 4,
 "nbformat_minor": 4
}
