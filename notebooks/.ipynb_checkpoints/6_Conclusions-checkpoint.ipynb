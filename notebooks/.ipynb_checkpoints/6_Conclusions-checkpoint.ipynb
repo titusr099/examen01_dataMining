{
 "cells": [
  {
   "cell_type": "markdown",
   "metadata": {},
   "source": [
    "# Evaluación de Regresión Lineal:\n",
    "MSE: 0.1301\n",
    "\n",
    "MAE: 0.3055\n",
    "\n",
    "R^2: 0.8661"
   ]
  },
  {
   "cell_type": "markdown",
   "metadata": {},
   "source": [
    "# Evaluación de Gradient Descent:\n",
    "MSE: 0.1300\n",
    "\n",
    "MAE: 0.3052\n",
    "\n",
    "R^2: 0.8662"
   ]
  },
  {
   "cell_type": "markdown",
   "metadata": {},
   "source": [
    "Ambos modelos obtuvieron resultados prácticamente idénticos, lo que indica que SGDRegressor logró converger correctamente a la misma solución que LinearRegression."
   ]
  },
  {
   "cell_type": "markdown",
   "metadata": {},
   "source": [
    "Se recomienda que:\n",
    "\n",
    "Si los datos son pequeños o medianos -> LinearRegression es más eficiente porque encuentra la solución directamente.\n",
    "\n",
    "Si los datos son grandes -> SGDRegressor es una buena alternativa porque usa optimización iterativa y no requiere invertir una matriz (que en datasets grandes puede ser costoso en memoria y tiempo)."
   ]
  },
  {
   "cell_type": "markdown",
   "metadata": {},
   "source": [
    "Elección del modelo:\n",
    "\n",
    "Dado que ambos modelos tienen el mismo desempeño, no hay una ventaja clara de uno sobre el otro en este caso específico.\n",
    "\n",
    "\n",
    "-  Para datasets pequeños -> LinearRegression es la mejor opción (más rápida y precisa).\n",
    "-  Para datasets muy grandes -> SGDRegressor puede ser mejor porque usa menos memoria.\n"
   ]
  },
  {
   "cell_type": "code",
   "execution_count": null,
   "metadata": {},
   "outputs": [],
   "source": []
  }
 ],
 "metadata": {
  "kernelspec": {
   "display_name": "Python 3 (ipykernel)",
   "language": "python",
   "name": "python3"
  },
  "language_info": {
   "codemirror_mode": {
    "name": "ipython",
    "version": 3
   },
   "file_extension": ".py",
   "mimetype": "text/x-python",
   "name": "python",
   "nbconvert_exporter": "python",
   "pygments_lexer": "ipython3",
   "version": "3.12.2"
  }
 },
 "nbformat": 4,
 "nbformat_minor": 4
}
